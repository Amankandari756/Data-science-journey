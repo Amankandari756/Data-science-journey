{
 "cells": [
  {
   "cell_type": "code",
   "execution_count": 68,
   "id": "f164cc33-bf7a-4e9b-9a2f-0a4873f865bf",
   "metadata": {},
   "outputs": [],
   "source": [
    "import requests"
   ]
  },
  {
   "cell_type": "code",
   "execution_count": 70,
   "id": "097a3950-af36-4c96-bc7e-600d588ac197",
   "metadata": {},
   "outputs": [
    {
     "name": "stdout",
     "output_type": "stream",
     "text": [
      "Downloaded page1 Successfully\n",
      "Downloaded page2 Successfully\n",
      "Downloaded page3 Successfully\n",
      "Downloaded page4 Successfully\n",
      "Downloaded page5 Successfully\n",
      "Downloaded page6 Successfully\n",
      "Downloaded page7 Successfully\n",
      "Downloaded page8 Successfully\n",
      "Downloaded page9 Successfully\n",
      "Downloaded page10 Successfully\n",
      "Downloaded page11 Successfully\n",
      "Downloaded page12 Successfully\n",
      "Downloaded page13 Successfully\n",
      "Downloaded page14 Successfully\n",
      "Downloaded page15 Successfully\n",
      "Downloaded page16 Successfully\n",
      "Downloaded page17 Successfully\n",
      "Downloaded page18 Successfully\n",
      "Downloaded page19 Successfully\n",
      "Downloaded page20 Successfully\n",
      "Downloaded page21 Successfully\n",
      "Downloaded page22 Successfully\n",
      "Downloaded page23 Successfully\n",
      "Downloaded page24 Successfully\n",
      "Downloaded page25 Successfully\n",
      "Downloaded page26 Successfully\n",
      "Downloaded page27 Successfully\n",
      "Downloaded page28 Successfully\n",
      "Downloaded page29 Successfully\n",
      "Downloaded page30 Successfully\n",
      "Downloaded page31 Successfully\n",
      "Downloaded page32 Successfully\n",
      "Downloaded page33 Successfully\n",
      "Downloaded page34 Successfully\n",
      "Downloaded page35 Successfully\n",
      "Downloaded page36 Successfully\n",
      "Downloaded page37 Successfully\n",
      "Downloaded page38 Successfully\n",
      "Downloaded page39 Successfully\n",
      "Downloaded page40 Successfully\n",
      "Downloaded page41 Successfully\n",
      "Downloaded page42 Successfully\n",
      "Downloaded page43 Successfully\n",
      "Downloaded page44 Successfully\n",
      "Downloaded page45 Successfully\n",
      "Downloaded page46 Successfully\n",
      "Downloaded page47 Successfully\n",
      "Downloaded page48 Successfully\n",
      "Downloaded page49 Successfully\n",
      "Downloaded page50 Successfully\n"
     ]
    }
   ],
   "source": [
    "for i in range(1,51):\n",
    "   a = requests.get(f\" https://books.toscrape.com/catalogue/page-{i}.html\")\n",
    "   with open(f\"htmls/page{i}.html\", \"w\", encoding=\"utf-8\") as f:\n",
    "    f.write(a.text)\n",
    "    print(f\"Downloaded page{i} Successfully\")"
   ]
  },
  {
   "cell_type": "code",
   "execution_count": 33,
   "id": "a6a1a99f-5996-4dcd-8c83-2b42e3e85395",
   "metadata": {},
   "outputs": [
    {
     "data": {
      "text/plain": [
       "200"
      ]
     },
     "execution_count": 33,
     "metadata": {},
     "output_type": "execute_result"
    }
   ],
   "source": [
    "a.status_code"
   ]
  },
  {
   "cell_type": "code",
   "execution_count": 35,
   "id": "0266c927-b48f-4454-90d8-2dba21cbff69",
   "metadata": {},
   "outputs": [
    {
     "data": {
      "text/plain": [
       "{'Date': 'Mon, 23 Jun 2025 10:24:59 GMT', 'Content-Type': 'text/html', 'Transfer-Encoding': 'chunked', 'Connection': 'keep-alive', 'Last-Modified': 'Wed, 08 Feb 2023 21:02:32 GMT', 'ETag': 'W/\"63e40de8-c85e\"', 'Strict-Transport-Security': 'max-age=0; includeSubDomains; preload', 'Content-Encoding': 'br'}"
      ]
     },
     "execution_count": 35,
     "metadata": {},
     "output_type": "execute_result"
    }
   ],
   "source": [
    "a.headers"
   ]
  },
  {
   "cell_type": "code",
   "execution_count": null,
   "id": "3bfea829-4df0-463b-a026-6aa20b98ea6c",
   "metadata": {},
   "outputs": [],
   "source": []
  }
 ],
 "metadata": {
  "kernelspec": {
   "display_name": "Python [conda env:base] *",
   "language": "python",
   "name": "conda-base-py"
  },
  "language_info": {
   "codemirror_mode": {
    "name": "ipython",
    "version": 3
   },
   "file_extension": ".py",
   "mimetype": "text/x-python",
   "name": "python",
   "nbconvert_exporter": "python",
   "pygments_lexer": "ipython3",
   "version": "3.12.7"
  }
 },
 "nbformat": 4,
 "nbformat_minor": 5
}
