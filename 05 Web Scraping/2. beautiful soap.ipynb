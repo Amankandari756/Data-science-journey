{
 "cells": [
  {
   "cell_type": "code",
   "execution_count": 4,
   "id": "0e4862ff-2e67-4819-a546-2725c236fd9f",
   "metadata": {},
   "outputs": [],
   "source": [
    "from bs4 import BeautifulSoup"
   ]
  },
  {
   "cell_type": "code",
   "execution_count": 6,
   "id": "5479e224-2ecb-4c0b-aee8-f53f113db80b",
   "metadata": {},
   "outputs": [],
   "source": [
    "with open(\"htmls/page1.html\") as f:\n",
    "    content = f.read()"
   ]
  },
  {
   "cell_type": "code",
   "execution_count": 8,
   "id": "84d3cb04-776e-46b9-8744-76e9c5374631",
   "metadata": {},
   "outputs": [],
   "source": [
    "soup = BeautifulSoup(content,\"html.parser\")"
   ]
  },
  {
   "cell_type": "code",
   "execution_count": 10,
   "id": "e215e055-bf68-45a2-b480-c7c3d222c074",
   "metadata": {},
   "outputs": [],
   "source": [
    "h3s = soup.find_all(\"h3\")"
   ]
  },
  {
   "cell_type": "code",
   "execution_count": 12,
   "id": "9c5c9979-c4b1-4598-bec1-8dbb5c351d22",
   "metadata": {},
   "outputs": [],
   "source": [
    "articles = soup.select(\"article.product_pod\")"
   ]
  },
  {
   "cell_type": "code",
   "execution_count": 14,
   "id": "78740467-6dc0-4f21-85b5-5463ed68620b",
   "metadata": {},
   "outputs": [],
   "source": [
    "items = []\n",
    "for article in articles:\n",
    "    title = article.find(\"h3\").find(\"a\")[\"title\"]\n",
    "    price = article.select_one(\"p.price_color\").text.split(\"£\")[1]\n",
    "    items.append([title, price])"
   ]
  },
  {
   "cell_type": "code",
   "execution_count": 16,
   "id": "3093dc38-eeeb-48e5-b5e7-428531d172bf",
   "metadata": {},
   "outputs": [
    {
     "data": {
      "text/plain": [
       "[['A Light in the Attic', '51.77'],\n",
       " ['Tipping the Velvet', '53.74'],\n",
       " ['Soumission', '50.10'],\n",
       " ['Sharp Objects', '47.82'],\n",
       " ['Sapiens: A Brief History of Humankind', '54.23'],\n",
       " ['The Requiem Red', '22.65'],\n",
       " ['The Dirty Little Secrets of Getting Your Dream Job', '33.34'],\n",
       " ['The Coming Woman: A Novel Based on the Life of the Infamous Feminist, Victoria Woodhull',\n",
       "  '17.93'],\n",
       " ['The Boys in the Boat: Nine Americans and Their Epic Quest for Gold at the 1936 Berlin Olympics',\n",
       "  '22.60'],\n",
       " ['The Black Maria', '52.15'],\n",
       " ['Starving Hearts (Triangular Trade Trilogy, #1)', '13.99'],\n",
       " [\"Shakespeare's Sonnets\", '20.66'],\n",
       " ['Set Me Free', '17.46'],\n",
       " [\"Scott Pilgrim's Precious Little Life (Scott Pilgrim #1)\", '52.29'],\n",
       " ['Rip it Up and Start Again', '35.02'],\n",
       " ['Our Band Could Be Your Life: Scenes from the American Indie Underground, 1981-1991',\n",
       "  '57.25'],\n",
       " ['Olio', '23.88'],\n",
       " ['Mesaerion: The Best Science Fiction Stories 1800-1849', '37.59'],\n",
       " ['Libertarianism for Beginners', '51.33'],\n",
       " [\"It's Only the Himalayas\", '45.17']]"
      ]
     },
     "execution_count": 16,
     "metadata": {},
     "output_type": "execute_result"
    }
   ],
   "source": [
    "items"
   ]
  },
  {
   "cell_type": "code",
   "execution_count": 18,
   "id": "af06b2d6-234a-45c3-a680-0ef4c8601c6c",
   "metadata": {},
   "outputs": [],
   "source": [
    "import pandas as pd"
   ]
  },
  {
   "cell_type": "code",
   "execution_count": 20,
   "id": "633922c8-ac53-4e2e-a6c4-718b4215a1fb",
   "metadata": {},
   "outputs": [],
   "source": [
    "df = pd.DataFrame(items, columns=[\"Book\",\"Price\"])"
   ]
  },
  {
   "cell_type": "code",
   "execution_count": 22,
   "id": "db49f03e-a771-4e3c-a39b-288c7dba7e0a",
   "metadata": {},
   "outputs": [
    {
     "data": {
      "text/html": [
       "<div>\n",
       "<style scoped>\n",
       "    .dataframe tbody tr th:only-of-type {\n",
       "        vertical-align: middle;\n",
       "    }\n",
       "\n",
       "    .dataframe tbody tr th {\n",
       "        vertical-align: top;\n",
       "    }\n",
       "\n",
       "    .dataframe thead th {\n",
       "        text-align: right;\n",
       "    }\n",
       "</style>\n",
       "<table border=\"1\" class=\"dataframe\">\n",
       "  <thead>\n",
       "    <tr style=\"text-align: right;\">\n",
       "      <th></th>\n",
       "      <th>Book</th>\n",
       "      <th>Price</th>\n",
       "    </tr>\n",
       "  </thead>\n",
       "  <tbody>\n",
       "    <tr>\n",
       "      <th>0</th>\n",
       "      <td>A Light in the Attic</td>\n",
       "      <td>51.77</td>\n",
       "    </tr>\n",
       "    <tr>\n",
       "      <th>1</th>\n",
       "      <td>Tipping the Velvet</td>\n",
       "      <td>53.74</td>\n",
       "    </tr>\n",
       "    <tr>\n",
       "      <th>2</th>\n",
       "      <td>Soumission</td>\n",
       "      <td>50.10</td>\n",
       "    </tr>\n",
       "    <tr>\n",
       "      <th>3</th>\n",
       "      <td>Sharp Objects</td>\n",
       "      <td>47.82</td>\n",
       "    </tr>\n",
       "    <tr>\n",
       "      <th>4</th>\n",
       "      <td>Sapiens: A Brief History of Humankind</td>\n",
       "      <td>54.23</td>\n",
       "    </tr>\n",
       "    <tr>\n",
       "      <th>5</th>\n",
       "      <td>The Requiem Red</td>\n",
       "      <td>22.65</td>\n",
       "    </tr>\n",
       "    <tr>\n",
       "      <th>6</th>\n",
       "      <td>The Dirty Little Secrets of Getting Your Dream...</td>\n",
       "      <td>33.34</td>\n",
       "    </tr>\n",
       "    <tr>\n",
       "      <th>7</th>\n",
       "      <td>The Coming Woman: A Novel Based on the Life of...</td>\n",
       "      <td>17.93</td>\n",
       "    </tr>\n",
       "    <tr>\n",
       "      <th>8</th>\n",
       "      <td>The Boys in the Boat: Nine Americans and Their...</td>\n",
       "      <td>22.60</td>\n",
       "    </tr>\n",
       "    <tr>\n",
       "      <th>9</th>\n",
       "      <td>The Black Maria</td>\n",
       "      <td>52.15</td>\n",
       "    </tr>\n",
       "    <tr>\n",
       "      <th>10</th>\n",
       "      <td>Starving Hearts (Triangular Trade Trilogy, #1)</td>\n",
       "      <td>13.99</td>\n",
       "    </tr>\n",
       "    <tr>\n",
       "      <th>11</th>\n",
       "      <td>Shakespeare's Sonnets</td>\n",
       "      <td>20.66</td>\n",
       "    </tr>\n",
       "    <tr>\n",
       "      <th>12</th>\n",
       "      <td>Set Me Free</td>\n",
       "      <td>17.46</td>\n",
       "    </tr>\n",
       "    <tr>\n",
       "      <th>13</th>\n",
       "      <td>Scott Pilgrim's Precious Little Life (Scott Pi...</td>\n",
       "      <td>52.29</td>\n",
       "    </tr>\n",
       "    <tr>\n",
       "      <th>14</th>\n",
       "      <td>Rip it Up and Start Again</td>\n",
       "      <td>35.02</td>\n",
       "    </tr>\n",
       "    <tr>\n",
       "      <th>15</th>\n",
       "      <td>Our Band Could Be Your Life: Scenes from the A...</td>\n",
       "      <td>57.25</td>\n",
       "    </tr>\n",
       "    <tr>\n",
       "      <th>16</th>\n",
       "      <td>Olio</td>\n",
       "      <td>23.88</td>\n",
       "    </tr>\n",
       "    <tr>\n",
       "      <th>17</th>\n",
       "      <td>Mesaerion: The Best Science Fiction Stories 18...</td>\n",
       "      <td>37.59</td>\n",
       "    </tr>\n",
       "    <tr>\n",
       "      <th>18</th>\n",
       "      <td>Libertarianism for Beginners</td>\n",
       "      <td>51.33</td>\n",
       "    </tr>\n",
       "    <tr>\n",
       "      <th>19</th>\n",
       "      <td>It's Only the Himalayas</td>\n",
       "      <td>45.17</td>\n",
       "    </tr>\n",
       "  </tbody>\n",
       "</table>\n",
       "</div>"
      ],
      "text/plain": [
       "                                                 Book  Price\n",
       "0                                A Light in the Attic  51.77\n",
       "1                                  Tipping the Velvet  53.74\n",
       "2                                          Soumission  50.10\n",
       "3                                       Sharp Objects  47.82\n",
       "4               Sapiens: A Brief History of Humankind  54.23\n",
       "5                                     The Requiem Red  22.65\n",
       "6   The Dirty Little Secrets of Getting Your Dream...  33.34\n",
       "7   The Coming Woman: A Novel Based on the Life of...  17.93\n",
       "8   The Boys in the Boat: Nine Americans and Their...  22.60\n",
       "9                                     The Black Maria  52.15\n",
       "10     Starving Hearts (Triangular Trade Trilogy, #1)  13.99\n",
       "11                              Shakespeare's Sonnets  20.66\n",
       "12                                        Set Me Free  17.46\n",
       "13  Scott Pilgrim's Precious Little Life (Scott Pi...  52.29\n",
       "14                          Rip it Up and Start Again  35.02\n",
       "15  Our Band Could Be Your Life: Scenes from the A...  57.25\n",
       "16                                               Olio  23.88\n",
       "17  Mesaerion: The Best Science Fiction Stories 18...  37.59\n",
       "18                       Libertarianism for Beginners  51.33\n",
       "19                            It's Only the Himalayas  45.17"
      ]
     },
     "execution_count": 22,
     "metadata": {},
     "output_type": "execute_result"
    }
   ],
   "source": [
    "df"
   ]
  },
  {
   "cell_type": "code",
   "execution_count": 24,
   "id": "557389da-4f36-4ecb-8e8f-f5bc0e9d2be2",
   "metadata": {},
   "outputs": [],
   "source": [
    "df.to_csv(\"data.csv\",index = False)"
   ]
  },
  {
   "cell_type": "code",
   "execution_count": null,
   "id": "3298a2cf-c629-465c-9818-6b0a712a311e",
   "metadata": {},
   "outputs": [],
   "source": []
  }
 ],
 "metadata": {
  "kernelspec": {
   "display_name": "Python [conda env:base] *",
   "language": "python",
   "name": "conda-base-py"
  },
  "language_info": {
   "codemirror_mode": {
    "name": "ipython",
    "version": 3
   },
   "file_extension": ".py",
   "mimetype": "text/x-python",
   "name": "python",
   "nbconvert_exporter": "python",
   "pygments_lexer": "ipython3",
   "version": "3.12.7"
  }
 },
 "nbformat": 4,
 "nbformat_minor": 5
}
