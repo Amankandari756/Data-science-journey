{
 "cells": [
  {
   "cell_type": "code",
   "execution_count": 1,
   "id": "2d0ab762-05a3-4874-a9d1-f40ba91279c7",
   "metadata": {},
   "outputs": [
    {
     "name": "stdout",
     "output_type": "stream",
     "text": [
      "[0, 2, 4, 6, 8, 10, 12, 14, 16, 18, 20, 22, 24, 26, 28, 30, 32, 34, 36, 38]\n",
      "1.958479404449463\n"
     ]
    }
   ],
   "source": [
    "#using python lists\n",
    "import numpy as np\n",
    "import time \n",
    "\n",
    "size = 1_000_000_0\n",
    "l1 = list(range(size))\n",
    "l2 = list(range(size))\n",
    "\n",
    "start = time.time()\n",
    "add = [x+y for x,y in zip(l1,l2)]\n",
    "end =  time.time()\n",
    "\n",
    "print(add[0:20])\n",
    "\n",
    "print(end - start)\n",
    "\n",
    "\n"
   ]
  },
  {
   "cell_type": "code",
   "execution_count": 3,
   "id": "0fb98384-06dd-44fb-93c4-d7152a5bfc15",
   "metadata": {},
   "outputs": [
    {
     "name": "stdout",
     "output_type": "stream",
     "text": [
      "[ 0  2  4  6  8 10 12 14 16 18 20 22 24 26 28 30 32 34 36 38]\n",
      "0.21202850341796875\n"
     ]
    }
   ],
   "source": [
    "#using numpy array\n",
    "import numpy as np\n",
    "import time \n",
    "\n",
    "size = 1_000_000_0\n",
    "l1 = np.array(list(range(size)))\n",
    "l2 = np.array(list(range(size)))\n",
    "\n",
    "start = time.time()\n",
    "add = l1 + l2\n",
    "end =  time.time()\n",
    "\n",
    "print(add[0:20])\n",
    "\n",
    "print(end - start)"
   ]
  },
  {
   "cell_type": "code",
   "execution_count": 37,
   "id": "73d1fa86-3d44-406b-8587-8802335ff0e0",
   "metadata": {},
   "outputs": [
    {
     "data": {
      "text/plain": [
       "[(1, 4), (2, 5), (3, 6)]"
      ]
     },
     "execution_count": 37,
     "metadata": {},
     "output_type": "execute_result"
    }
   ],
   "source": [
    "# python zip explained \n",
    "l1 = [1,2,3]\n",
    "l2 = [4,5,6]\n",
    "list(zip(l1,l2))"
   ]
  },
  {
   "cell_type": "code",
   "execution_count": 16,
   "id": "b2c505ff-e31d-4ffc-930d-fa34aa507e84",
   "metadata": {},
   "outputs": [
    {
     "data": {
      "text/plain": [
       "array([1, 2, 3, 4, 5, 6])"
      ]
     },
     "execution_count": 16,
     "metadata": {},
     "output_type": "execute_result"
    }
   ],
   "source": [
    "np.array([1,2,3,4,5,6])"
   ]
  },
  {
   "cell_type": "code",
   "execution_count": 17,
   "id": "757c3a88-402e-429b-89f8-700816e29076",
   "metadata": {},
   "outputs": [],
   "source": [
    "arr = np.array([[1,2,3,4,5],[9,3,2,4,6]])\n"
   ]
  },
  {
   "cell_type": "code",
   "execution_count": 18,
   "id": "3537f084-c3d8-4601-ac75-887bd04fd6a3",
   "metadata": {},
   "outputs": [
    {
     "data": {
      "text/plain": [
       "numpy.ndarray"
      ]
     },
     "execution_count": 18,
     "metadata": {},
     "output_type": "execute_result"
    }
   ],
   "source": [
    "type(arr)"
   ]
  },
  {
   "cell_type": "code",
   "execution_count": 24,
   "id": "a331bf10-9d15-4b9d-b0b1-67915b01b6df",
   "metadata": {},
   "outputs": [
    {
     "data": {
      "text/plain": [
       "(2, 5)"
      ]
     },
     "execution_count": 24,
     "metadata": {},
     "output_type": "execute_result"
    }
   ],
   "source": [
    "arr.shape"
   ]
  },
  {
   "cell_type": "code",
   "execution_count": 26,
   "id": "be8738ce-27bb-4259-bea0-7eb23e634ff6",
   "metadata": {},
   "outputs": [
    {
     "name": "stdout",
     "output_type": "stream",
     "text": [
      "0.006365537643432617\n"
     ]
    }
   ],
   "source": [
    "# Python list (loop-based)\n",
    "import time\n",
    "\n",
    "start = time.time()\n",
    "list1 = list(range(1_000_00))\n",
    "list_squares = [x ** 2 for x in list1]\n",
    "end = time.time()\n",
    "print(end- start)\n",
    "\n"
   ]
  },
  {
   "cell_type": "code",
   "execution_count": 28,
   "id": "23129d8f-65e6-4bb0-888b-8d7837068d38",
   "metadata": {},
   "outputs": [
    {
     "name": "stdout",
     "output_type": "stream",
     "text": [
      "0.0\n"
     ]
    }
   ],
   "source": [
    "# NumPy (vectorized)\n",
    "import numpy as np\n",
    "import time\n",
    "\n",
    "arr1 = np.array(list(range(1_000_00)))\n",
    "\n",
    "start = time.time()\n",
    "numpy_squares = arr1 ** 2\n",
    "end = time.time()\n",
    "print(end - start)"
   ]
  }
 ],
 "metadata": {
  "kernelspec": {
   "display_name": "Python [conda env:base] *",
   "language": "python",
   "name": "conda-base-py"
  },
  "language_info": {
   "codemirror_mode": {
    "name": "ipython",
    "version": 3
   },
   "file_extension": ".py",
   "mimetype": "text/x-python",
   "name": "python",
   "nbconvert_exporter": "python",
   "pygments_lexer": "ipython3",
   "version": "3.12.7"
  }
 },
 "nbformat": 4,
 "nbformat_minor": 5
}
