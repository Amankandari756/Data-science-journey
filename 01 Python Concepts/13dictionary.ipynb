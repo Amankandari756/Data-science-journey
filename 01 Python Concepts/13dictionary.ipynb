{
 "cells": [
  {
   "cell_type": "code",
   "execution_count": 1,
   "id": "d68659fa-7825-4b72-a667-6d3580a4e2a2",
   "metadata": {},
   "outputs": [],
   "source": [
    "d = {}"
   ]
  },
  {
   "cell_type": "code",
   "execution_count": 3,
   "id": "aa2e85fa-a520-4fc5-a364-f072c80d365e",
   "metadata": {},
   "outputs": [
    {
     "data": {
      "text/plain": [
       "dict"
      ]
     },
     "execution_count": 3,
     "metadata": {},
     "output_type": "execute_result"
    }
   ],
   "source": [
    "type(d)"
   ]
  },
  {
   "cell_type": "code",
   "execution_count": 7,
   "id": "ce68d6db-4a70-4dee-9ea8-594ec02eadfe",
   "metadata": {},
   "outputs": [],
   "source": [
    "#dictionary with key values \n",
    "student = {\n",
    "    \"name\" : \"Aman\",\n",
    "    \"age\" : 25,\n",
    "    \"grade\" : \"A\"\n",
    "}"
   ]
  },
  {
   "cell_type": "code",
   "execution_count": 9,
   "id": "c5e4270a-aeb1-4736-96b4-500605b73536",
   "metadata": {},
   "outputs": [
    {
     "data": {
      "text/plain": [
       "'Aman'"
      ]
     },
     "execution_count": 9,
     "metadata": {},
     "output_type": "execute_result"
    }
   ],
   "source": [
    "student [\"name\"]"
   ]
  },
  {
   "cell_type": "code",
   "execution_count": 11,
   "id": "0f54dd6d-5a72-412f-9115-ae7d795632b3",
   "metadata": {},
   "outputs": [],
   "source": [
    "student[\"age\"] = 26"
   ]
  },
  {
   "cell_type": "code",
   "execution_count": 13,
   "id": "ccf2152c-f5b8-4f9c-8849-1f406f9edf03",
   "metadata": {},
   "outputs": [
    {
     "data": {
      "text/plain": [
       "26"
      ]
     },
     "execution_count": 13,
     "metadata": {},
     "output_type": "execute_result"
    }
   ],
   "source": [
    "student[\"age\"]"
   ]
  },
  {
   "cell_type": "code",
   "execution_count": 15,
   "id": "b24c0d8c-6411-4f6f-b3d2-ca0506f0ec2f",
   "metadata": {},
   "outputs": [
    {
     "name": "stdout",
     "output_type": "stream",
     "text": [
      "{'name': 'Aman', 'age': 26, 'grade': 'A'}\n"
     ]
    }
   ],
   "source": [
    "print(student)"
   ]
  },
  {
   "cell_type": "code",
   "execution_count": 17,
   "id": "f55b8228-9221-4e6c-982d-edc53143b896",
   "metadata": {},
   "outputs": [
    {
     "data": {
      "text/plain": [
       "dict_keys(['name', 'age', 'grade'])"
      ]
     },
     "execution_count": 17,
     "metadata": {},
     "output_type": "execute_result"
    }
   ],
   "source": [
    "student.keys()"
   ]
  },
  {
   "cell_type": "code",
   "execution_count": 19,
   "id": "492f5cb7-d1df-416f-8a60-cc0e2c78b86e",
   "metadata": {},
   "outputs": [
    {
     "data": {
      "text/plain": [
       "dict_values(['Aman', 26, 'A'])"
      ]
     },
     "execution_count": 19,
     "metadata": {},
     "output_type": "execute_result"
    }
   ],
   "source": [
    "student.values()"
   ]
  },
  {
   "cell_type": "code",
   "execution_count": 21,
   "id": "a1fa970b-feed-42aa-8e6f-e71ad83ba95b",
   "metadata": {},
   "outputs": [
    {
     "data": {
      "text/plain": [
       "dict_items([('name', 'Aman'), ('age', 26), ('grade', 'A')])"
      ]
     },
     "execution_count": 21,
     "metadata": {},
     "output_type": "execute_result"
    }
   ],
   "source": [
    "student.items()"
   ]
  },
  {
   "cell_type": "code",
   "execution_count": 23,
   "id": "8b7c757f-1db7-4d16-9d1b-2091f285fd12",
   "metadata": {},
   "outputs": [],
   "source": [
    "student.update({\"name\" : \"Kandari\"})"
   ]
  },
  {
   "cell_type": "code",
   "execution_count": 25,
   "id": "2506bb26-3e63-46ba-bf56-89b7abc26d98",
   "metadata": {},
   "outputs": [
    {
     "data": {
      "text/plain": [
       "{'name': 'Kandari', 'age': 26, 'grade': 'A'}"
      ]
     },
     "execution_count": 25,
     "metadata": {},
     "output_type": "execute_result"
    }
   ],
   "source": [
    "student"
   ]
  },
  {
   "cell_type": "code",
   "execution_count": 27,
   "id": "cacbe342-034e-49b9-bbcd-4c3dbd47a47d",
   "metadata": {},
   "outputs": [],
   "source": [
    "student.update({\"name\" : \"muskan\", \"language\" : \"Python\"})"
   ]
  },
  {
   "cell_type": "code",
   "execution_count": 29,
   "id": "18b1a330-2be1-4a92-8bd8-57db4da8dd71",
   "metadata": {},
   "outputs": [
    {
     "data": {
      "text/plain": [
       "{'name': 'muskan', 'age': 26, 'grade': 'A', 'language': 'Python'}"
      ]
     },
     "execution_count": 29,
     "metadata": {},
     "output_type": "execute_result"
    }
   ],
   "source": [
    "student"
   ]
  },
  {
   "cell_type": "code",
   "execution_count": null,
   "id": "fae4ace2-b525-4322-a7cd-d24fe4b9c28c",
   "metadata": {},
   "outputs": [],
   "source": []
  }
 ],
 "metadata": {
  "kernelspec": {
   "display_name": "Python [conda env:base] *",
   "language": "python",
   "name": "conda-base-py"
  },
  "language_info": {
   "codemirror_mode": {
    "name": "ipython",
    "version": 3
   },
   "file_extension": ".py",
   "mimetype": "text/x-python",
   "name": "python",
   "nbconvert_exporter": "python",
   "pygments_lexer": "ipython3",
   "version": "3.12.7"
  }
 },
 "nbformat": 4,
 "nbformat_minor": 5
}
