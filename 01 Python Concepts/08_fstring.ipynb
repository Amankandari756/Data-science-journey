{
 "cells": [
  {
   "cell_type": "code",
   "execution_count": 1,
   "id": "2b86b552-0f81-45e4-be84-a914fa1e643b",
   "metadata": {},
   "outputs": [],
   "source": [
    " s = \"AMAN\""
   ]
  },
  {
   "cell_type": "code",
   "execution_count": 3,
   "id": "9f145957-890d-4461-9e49-9e0099f49f76",
   "metadata": {},
   "outputs": [
    {
     "data": {
      "text/plain": [
       "'A'"
      ]
     },
     "execution_count": 3,
     "metadata": {},
     "output_type": "execute_result"
    }
   ],
   "source": [
    "s[0]"
   ]
  },
  {
   "cell_type": "code",
   "execution_count": 5,
   "id": "96bed61f-98c9-43a0-bc64-e0c1624b0692",
   "metadata": {},
   "outputs": [],
   "source": [
    "name = \"John\"\n",
    "age = 55"
   ]
  },
  {
   "cell_type": "code",
   "execution_count": 7,
   "id": "83aae65d-394c-4bba-9ee9-356e2f898882",
   "metadata": {},
   "outputs": [
    {
     "name": "stdout",
     "output_type": "stream",
     "text": [
      "My name is John and i am 55 years old \n"
     ]
    }
   ],
   "source": [
    "print(f\"My name is {name} and i am {age} years old \")"
   ]
  },
  {
   "cell_type": "code",
   "execution_count": 13,
   "id": "584e90bc-3885-43e9-b9a5-31ac7a000d65",
   "metadata": {},
   "outputs": [
    {
     "name": "stdout",
     "output_type": "stream",
     "text": [
      "Python    \n",
      "    Python\n",
      "  Python  \n"
     ]
    }
   ],
   "source": [
    "print(f\"{'Python' : <10}\")\n",
    "print(f\"{'Python' : >10}\")\n",
    "print(f\"{'Python' : ^10}\")"
   ]
  },
  {
   "cell_type": "code",
   "execution_count": null,
   "id": "c1e49b77-b2af-41f1-bf7c-a2093911e292",
   "metadata": {},
   "outputs": [],
   "source": []
  }
 ],
 "metadata": {
  "kernelspec": {
   "display_name": "Python [conda env:base] *",
   "language": "python",
   "name": "conda-base-py"
  },
  "language_info": {
   "codemirror_mode": {
    "name": "ipython",
    "version": 3
   },
   "file_extension": ".py",
   "mimetype": "text/x-python",
   "name": "python",
   "nbconvert_exporter": "python",
   "pygments_lexer": "ipython3",
   "version": "3.12.7"
  }
 },
 "nbformat": 4,
 "nbformat_minor": 5
}
