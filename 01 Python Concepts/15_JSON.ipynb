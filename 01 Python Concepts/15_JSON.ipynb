{
 "cells": [
  {
   "cell_type": "code",
   "execution_count": 1,
   "id": "9725ca2a-ffc2-4781-a5c0-bebcd8a920b1",
   "metadata": {},
   "outputs": [],
   "source": [
    "import json"
   ]
  },
  {
   "cell_type": "code",
   "execution_count": 15,
   "id": "19a3aeeb-2ed1-4612-80d5-aa8375f992cd",
   "metadata": {},
   "outputs": [
    {
     "name": "stdout",
     "output_type": "stream",
     "text": [
      "{\"name\": \"Aman\", \"company\": \"IBM\", \"salary\": 45000}\n"
     ]
    }
   ],
   "source": [
    "obj = {\"name\" : \"Aman\", \"company\" : \"IBM\", \"salary\" : 45000}\n",
    "s = json.dumps(obj)\n",
    "type(s)\n",
    "print(s)"
   ]
  },
  {
   "cell_type": "code",
   "execution_count": 7,
   "id": "993392d1-9d15-40f2-a76a-8888b6a32036",
   "metadata": {},
   "outputs": [],
   "source": [
    "d = json.loads('{\"name\" : \"Alice\", \"Company\" : \"IBM\", \"salary\": 45000}')"
   ]
  },
  {
   "cell_type": "code",
   "execution_count": 9,
   "id": "8634cefe-4187-42c7-a861-e1711c66b583",
   "metadata": {},
   "outputs": [
    {
     "data": {
      "text/plain": [
       "dict"
      ]
     },
     "execution_count": 9,
     "metadata": {},
     "output_type": "execute_result"
    }
   ],
   "source": [
    "type(d)"
   ]
  },
  {
   "cell_type": "code",
   "execution_count": null,
   "id": "bd740e24-545c-494e-b8c8-5fd2cb9ac2cb",
   "metadata": {},
   "outputs": [],
   "source": []
  }
 ],
 "metadata": {
  "kernelspec": {
   "display_name": "Python [conda env:base] *",
   "language": "python",
   "name": "conda-base-py"
  },
  "language_info": {
   "codemirror_mode": {
    "name": "ipython",
    "version": 3
   },
   "file_extension": ".py",
   "mimetype": "text/x-python",
   "name": "python",
   "nbconvert_exporter": "python",
   "pygments_lexer": "ipython3",
   "version": "3.12.7"
  }
 },
 "nbformat": 4,
 "nbformat_minor": 5
}
