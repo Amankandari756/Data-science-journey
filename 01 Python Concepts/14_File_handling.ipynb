{
 "cells": [
  {
   "cell_type": "code",
   "execution_count": 4,
   "id": "24187fc0-6b16-4f0f-a2f7-e98defb9b6a4",
   "metadata": {},
   "outputs": [],
   "source": [
    "f = open(\"text.txt\", \"r\")"
   ]
  },
  {
   "cell_type": "code",
   "execution_count": 9,
   "id": "e1c25f7f-dea9-49d6-959f-93a4598f5d5c",
   "metadata": {},
   "outputs": [
    {
     "data": {
      "text/plain": [
       "'\\nis\\ngreat \\ndata scientist '"
      ]
     },
     "execution_count": 9,
     "metadata": {},
     "output_type": "execute_result"
    }
   ],
   "source": [
    "f.read()"
   ]
  },
  {
   "cell_type": "code",
   "execution_count": 27,
   "id": "6b36bdc7-4a6c-4b76-961f-1df88dab4047",
   "metadata": {},
   "outputs": [],
   "source": [
    "s = \"he is great at his work\""
   ]
  },
  {
   "cell_type": "code",
   "execution_count": 29,
   "id": "15ba3cef-df96-4d8b-bc1b-42fd2604762a",
   "metadata": {},
   "outputs": [],
   "source": [
    "f.close()"
   ]
  },
  {
   "cell_type": "code",
   "execution_count": 41,
   "id": "1c06b79d-3395-499c-b138-829281d1cbf6",
   "metadata": {},
   "outputs": [],
   "source": [
    "f = open(\"aman.txt\", \"w\")"
   ]
  },
  {
   "cell_type": "code",
   "execution_count": 43,
   "id": "4048b170-14f5-465c-ad93-5c2afb96b1f2",
   "metadata": {},
   "outputs": [
    {
     "data": {
      "text/plain": [
       "23"
      ]
     },
     "execution_count": 43,
     "metadata": {},
     "output_type": "execute_result"
    }
   ],
   "source": [
    "f.write(s)"
   ]
  },
  {
   "cell_type": "code",
   "execution_count": 45,
   "id": "0da19869-4dcb-4007-8796-9146f838a5c0",
   "metadata": {},
   "outputs": [],
   "source": [
    "f.close()"
   ]
  },
  {
   "cell_type": "code",
   "execution_count": 39,
   "id": "82baa9ea-919a-462d-b89d-f4e56c272bb6",
   "metadata": {},
   "outputs": [
    {
     "name": "stdout",
     "output_type": "stream",
     "text": [
      "he is great at his work\n"
     ]
    }
   ],
   "source": [
    "f= open(\"aman.txt\" , \"r\")\n",
    "print(f.read())\n",
    "f.close()"
   ]
  },
  {
   "cell_type": "code",
   "execution_count": null,
   "id": "cea373dd-c80a-4633-8b5d-39db43d529ff",
   "metadata": {},
   "outputs": [],
   "source": []
  }
 ],
 "metadata": {
  "kernelspec": {
   "display_name": "Python [conda env:base] *",
   "language": "python",
   "name": "conda-base-py"
  },
  "language_info": {
   "codemirror_mode": {
    "name": "ipython",
    "version": 3
   },
   "file_extension": ".py",
   "mimetype": "text/x-python",
   "name": "python",
   "nbconvert_exporter": "python",
   "pygments_lexer": "ipython3",
   "version": "3.12.7"
  }
 },
 "nbformat": 4,
 "nbformat_minor": 5
}
