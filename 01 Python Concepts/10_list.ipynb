{
 "cells": [
  {
   "cell_type": "code",
   "execution_count": 1,
   "id": "034e7690-7b90-4f34-afbd-af0bd0d94a8e",
   "metadata": {},
   "outputs": [],
   "source": [
    "l = [3,5,23,3]"
   ]
  },
  {
   "cell_type": "code",
   "execution_count": 3,
   "id": "3a0d3119-0fc8-42c3-a945-eada5a752aa8",
   "metadata": {},
   "outputs": [
    {
     "data": {
      "text/plain": [
       "[3, 5, 23, 3]"
      ]
     },
     "execution_count": 3,
     "metadata": {},
     "output_type": "execute_result"
    }
   ],
   "source": [
    "l"
   ]
  },
  {
   "cell_type": "code",
   "execution_count": 5,
   "id": "d6243c9a-9193-4611-b2ed-97f1fd181120",
   "metadata": {},
   "outputs": [],
   "source": [
    "l[0] = 7"
   ]
  },
  {
   "cell_type": "code",
   "execution_count": 7,
   "id": "56ce09bf-782b-4289-873d-6c2957d6d065",
   "metadata": {},
   "outputs": [
    {
     "data": {
      "text/plain": [
       "[7, 5, 23, 3]"
      ]
     },
     "execution_count": 7,
     "metadata": {},
     "output_type": "execute_result"
    }
   ],
   "source": [
    "l"
   ]
  },
  {
   "cell_type": "code",
   "execution_count": 9,
   "id": "fe629076-d469-4d34-ae02-addfd0797823",
   "metadata": {},
   "outputs": [],
   "source": [
    "l.append(9)"
   ]
  },
  {
   "cell_type": "code",
   "execution_count": 11,
   "id": "c18a493d-4913-4315-9775-8c2dadb409e9",
   "metadata": {},
   "outputs": [
    {
     "data": {
      "text/plain": [
       "[7, 5, 23, 3, 9]"
      ]
     },
     "execution_count": 11,
     "metadata": {},
     "output_type": "execute_result"
    }
   ],
   "source": [
    "l"
   ]
  },
  {
   "cell_type": "code",
   "execution_count": 13,
   "id": "813cc825-0fc2-4626-a913-7d1822ece79b",
   "metadata": {},
   "outputs": [],
   "source": [
    "l2 = [5,7]"
   ]
  },
  {
   "cell_type": "code",
   "execution_count": 15,
   "id": "4f9e376a-ca6e-4a1d-9259-a828d1fdc3a0",
   "metadata": {},
   "outputs": [],
   "source": [
    "l.extend(l2)"
   ]
  },
  {
   "cell_type": "code",
   "execution_count": 17,
   "id": "282c766e-c68b-4eab-af07-9aca30540600",
   "metadata": {},
   "outputs": [
    {
     "data": {
      "text/plain": [
       "[7, 5, 23, 3, 9, 5, 7]"
      ]
     },
     "execution_count": 17,
     "metadata": {},
     "output_type": "execute_result"
    }
   ],
   "source": [
    "l"
   ]
  },
  {
   "cell_type": "code",
   "execution_count": 19,
   "id": "014f47c2-44e4-41d4-8432-5d7937fa356b",
   "metadata": {},
   "outputs": [],
   "source": [
    "l.insert(1,200)"
   ]
  },
  {
   "cell_type": "code",
   "execution_count": 21,
   "id": "901e403a-a5e6-4fda-892f-cde7a732dbfa",
   "metadata": {},
   "outputs": [
    {
     "data": {
      "text/plain": [
       "[7, 200, 5, 23, 3, 9, 5, 7]"
      ]
     },
     "execution_count": 21,
     "metadata": {},
     "output_type": "execute_result"
    }
   ],
   "source": [
    "l"
   ]
  },
  {
   "cell_type": "code",
   "execution_count": 23,
   "id": "555b5448-35c1-4acd-8f4f-96679519995e",
   "metadata": {},
   "outputs": [
    {
     "data": {
      "text/plain": [
       "3"
      ]
     },
     "execution_count": 23,
     "metadata": {},
     "output_type": "execute_result"
    }
   ],
   "source": [
    "l.pop(4)"
   ]
  },
  {
   "cell_type": "code",
   "execution_count": 25,
   "id": "7579e43f-643f-47f5-87c7-176b105892ab",
   "metadata": {},
   "outputs": [
    {
     "data": {
      "text/plain": [
       "[7, 200, 5, 23, 9, 5, 7]"
      ]
     },
     "execution_count": 25,
     "metadata": {},
     "output_type": "execute_result"
    }
   ],
   "source": [
    "l"
   ]
  },
  {
   "cell_type": "code",
   "execution_count": 27,
   "id": "355e1fe1-5dce-491d-ae68-b9f093e6d476",
   "metadata": {},
   "outputs": [
    {
     "data": {
      "text/plain": [
       "3"
      ]
     },
     "execution_count": 27,
     "metadata": {},
     "output_type": "execute_result"
    }
   ],
   "source": [
    "l.index(23)"
   ]
  },
  {
   "cell_type": "code",
   "execution_count": 29,
   "id": "c145f84c-6567-4f0c-a5fe-82dc5e2935d6",
   "metadata": {},
   "outputs": [
    {
     "ename": "ValueError",
     "evalue": "50 is not in list",
     "output_type": "error",
     "traceback": [
      "\u001b[1;31m---------------------------------------------------------------------------\u001b[0m",
      "\u001b[1;31mValueError\u001b[0m                                Traceback (most recent call last)",
      "Cell \u001b[1;32mIn[29], line 1\u001b[0m\n\u001b[1;32m----> 1\u001b[0m l\u001b[38;5;241m.\u001b[39mindex(\u001b[38;5;241m50\u001b[39m)\n",
      "\u001b[1;31mValueError\u001b[0m: 50 is not in list"
     ]
    }
   ],
   "source": [
    "l.index(50)"
   ]
  },
  {
   "cell_type": "code",
   "execution_count": 31,
   "id": "adcd84ab-7924-48f5-973c-c1b7f4b74112",
   "metadata": {},
   "outputs": [],
   "source": [
    "l.append(7)"
   ]
  },
  {
   "cell_type": "code",
   "execution_count": 33,
   "id": "bb693c1c-e493-45c5-b8e7-485147eedbbc",
   "metadata": {},
   "outputs": [
    {
     "data": {
      "text/plain": [
       "[7, 200, 5, 23, 9, 5, 7, 7]"
      ]
     },
     "execution_count": 33,
     "metadata": {},
     "output_type": "execute_result"
    }
   ],
   "source": [
    "l"
   ]
  },
  {
   "cell_type": "code",
   "execution_count": 35,
   "id": "38db1315-45e3-440f-b862-fe4e61b798d8",
   "metadata": {},
   "outputs": [
    {
     "data": {
      "text/plain": [
       "3"
      ]
     },
     "execution_count": 35,
     "metadata": {},
     "output_type": "execute_result"
    }
   ],
   "source": [
    "l.count(7)"
   ]
  },
  {
   "cell_type": "code",
   "execution_count": 37,
   "id": "2d606bb2-ce9a-4bc2-963f-c90fead63baa",
   "metadata": {},
   "outputs": [],
   "source": [
    "l.sort() # change the original values "
   ]
  },
  {
   "cell_type": "code",
   "execution_count": 39,
   "id": "05420a3e-f8e6-4924-bc61-e0ff6b1b7e65",
   "metadata": {},
   "outputs": [
    {
     "data": {
      "text/plain": [
       "[5, 5, 7, 7, 7, 9, 23, 200]"
      ]
     },
     "execution_count": 39,
     "metadata": {},
     "output_type": "execute_result"
    }
   ],
   "source": [
    "l"
   ]
  },
  {
   "cell_type": "code",
   "execution_count": 43,
   "id": "1b243627-6b1b-409a-8f89-9f119a09c5c9",
   "metadata": {},
   "outputs": [
    {
     "data": {
      "text/plain": [
       "[5, 5, 7, 7, 7, 9, 23, 200]"
      ]
     },
     "execution_count": 43,
     "metadata": {},
     "output_type": "execute_result"
    }
   ],
   "source": [
    "sorted(l) #does not change original values"
   ]
  },
  {
   "cell_type": "code",
   "execution_count": 45,
   "id": "b0fffd2d-1202-45b8-bc2e-55af30794723",
   "metadata": {},
   "outputs": [],
   "source": [
    " y= [1,2, True, False, [4,7]]"
   ]
  },
  {
   "cell_type": "code",
   "execution_count": 47,
   "id": "e2a951e1-2b9d-4484-9f2b-d766dfea3b4f",
   "metadata": {},
   "outputs": [
    {
     "data": {
      "text/plain": [
       "[1, 2, True, False, [4, 7]]"
      ]
     },
     "execution_count": 47,
     "metadata": {},
     "output_type": "execute_result"
    }
   ],
   "source": [
    "y"
   ]
  },
  {
   "cell_type": "code",
   "execution_count": 49,
   "id": "4c3e5d13-0452-42c5-8067-b25ae16d644d",
   "metadata": {},
   "outputs": [
    {
     "data": {
      "text/plain": [
       "[4, 7]"
      ]
     },
     "execution_count": 49,
     "metadata": {},
     "output_type": "execute_result"
    }
   ],
   "source": [
    "y[4]"
   ]
  },
  {
   "cell_type": "code",
   "execution_count": 51,
   "id": "ad51b8d9-6f75-4608-a588-32cd4db58826",
   "metadata": {},
   "outputs": [
    {
     "data": {
      "text/plain": [
       "4"
      ]
     },
     "execution_count": 51,
     "metadata": {},
     "output_type": "execute_result"
    }
   ],
   "source": [
    "y[4][0]"
   ]
  },
  {
   "cell_type": "code",
   "execution_count": 53,
   "id": "3c780824-f14c-4b96-9eb6-bb69e9cff042",
   "metadata": {},
   "outputs": [],
   "source": [
    "list1 = [4,32,12]"
   ]
  },
  {
   "cell_type": "code",
   "execution_count": 55,
   "id": "69d93649-e809-4955-9937-3f864d235417",
   "metadata": {},
   "outputs": [],
   "source": [
    "list2 = [3,1,8]"
   ]
  },
  {
   "cell_type": "code",
   "execution_count": 57,
   "id": "46c94301-68a5-4a0d-bde9-0a088126863d",
   "metadata": {},
   "outputs": [
    {
     "data": {
      "text/plain": [
       "[4, 32, 12, 3, 1, 8]"
      ]
     },
     "execution_count": 57,
     "metadata": {},
     "output_type": "execute_result"
    }
   ],
   "source": [
    "list1 + list2"
   ]
  },
  {
   "cell_type": "code",
   "execution_count": 63,
   "id": "d48bffc9-3c8a-4473-8c14-2ee506d4937e",
   "metadata": {},
   "outputs": [],
   "source": [
    "if 33 in list2:\n",
    "    print(\"Yes\")"
   ]
  },
  {
   "cell_type": "code",
   "execution_count": 65,
   "id": "41a8b594-33bd-4902-addb-9253ed94decc",
   "metadata": {},
   "outputs": [
    {
     "data": {
      "text/plain": [
       "True"
      ]
     },
     "execution_count": 65,
     "metadata": {},
     "output_type": "execute_result"
    }
   ],
   "source": [
    "3 in list2"
   ]
  },
  {
   "cell_type": "code",
   "execution_count": 67,
   "id": "b449acc1-06f3-446c-8aec-033bf7a89814",
   "metadata": {},
   "outputs": [],
   "source": [
    "s =\"jack-aman-ajay-vijay-suraj\""
   ]
  },
  {
   "cell_type": "code",
   "execution_count": 69,
   "id": "d324d88a-75d5-4f8b-a5dc-11dda9ed417b",
   "metadata": {},
   "outputs": [
    {
     "data": {
      "text/plain": [
       "['jack', 'aman', 'ajay', 'vijay', 'suraj']"
      ]
     },
     "execution_count": 69,
     "metadata": {},
     "output_type": "execute_result"
    }
   ],
   "source": [
    "s.split(\"-\")"
   ]
  },
  {
   "cell_type": "code",
   "execution_count": null,
   "id": "ba31b7cc-0aa7-40dc-abad-f2125b27da68",
   "metadata": {},
   "outputs": [],
   "source": []
  }
 ],
 "metadata": {
  "kernelspec": {
   "display_name": "Python [conda env:base] *",
   "language": "python",
   "name": "conda-base-py"
  },
  "language_info": {
   "codemirror_mode": {
    "name": "ipython",
    "version": 3
   },
   "file_extension": ".py",
   "mimetype": "text/x-python",
   "name": "python",
   "nbconvert_exporter": "python",
   "pygments_lexer": "ipython3",
   "version": "3.12.7"
  }
 },
 "nbformat": 4,
 "nbformat_minor": 5
}
