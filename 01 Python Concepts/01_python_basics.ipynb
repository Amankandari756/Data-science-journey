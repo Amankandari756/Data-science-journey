{
 "cells": [
  {
   "cell_type": "code",
   "execution_count": 2,
   "id": "cf879ab1-ea15-4580-8243-296f10d0c544",
   "metadata": {},
   "outputs": [],
   "source": [
    "a = 5"
   ]
  },
  {
   "cell_type": "code",
   "execution_count": 3,
   "id": "807e35d3-87e9-4a11-b720-c3b637b1881a",
   "metadata": {},
   "outputs": [],
   "source": [
    "b = 32"
   ]
  },
  {
   "cell_type": "code",
   "execution_count": 4,
   "id": "a71a0c87-732a-4340-b726-c56ef292f6b4",
   "metadata": {},
   "outputs": [
    {
     "data": {
      "text/plain": [
       "37"
      ]
     },
     "execution_count": 4,
     "metadata": {},
     "output_type": "execute_result"
    }
   ],
   "source": [
    "a +b"
   ]
  },
  {
   "cell_type": "code",
   "execution_count": 10,
   "id": "f13c78e6-7a1a-49c8-a020-af645a920520",
   "metadata": {},
   "outputs": [],
   "source": [
    "name = \"Aman\""
   ]
  },
  {
   "cell_type": "code",
   "execution_count": 16,
   "id": "436568b0-c577-4d3a-b939-2aeba8f84268",
   "metadata": {},
   "outputs": [
    {
     "name": "stdout",
     "output_type": "stream",
     "text": [
      "hello world\n"
     ]
    }
   ],
   "source": [
    "print(\"hello world\") # this will print hello world on screen "
   ]
  },
  {
   "cell_type": "code",
   "execution_count": 18,
   "id": "46803c51-151c-486f-ae90-2ab7899c5b85",
   "metadata": {},
   "outputs": [],
   "source": [
    "# this is a comment"
   ]
  },
  {
   "cell_type": "code",
   "execution_count": 22,
   "id": "623f76a5-ac66-455b-82d5-53e357c81e0e",
   "metadata": {},
   "outputs": [
    {
     "name": "stdout",
     "output_type": "stream",
     "text": [
      "<class 'int'>\n"
     ]
    }
   ],
   "source": [
    "print(type(a))"
   ]
  },
  {
   "cell_type": "code",
   "execution_count": 24,
   "id": "3fced69c-a6a2-4838-9e50-55ae2c1cd6ff",
   "metadata": {},
   "outputs": [
    {
     "name": "stdout",
     "output_type": "stream",
     "text": [
      "<class 'str'>\n"
     ]
    }
   ],
   "source": [
    "print(type(name))"
   ]
  },
  {
   "cell_type": "code",
   "execution_count": 26,
   "id": "90c6094f-33ff-426b-9cd8-5e8d0ddd71a7",
   "metadata": {},
   "outputs": [
    {
     "data": {
      "text/plain": [
       "str"
      ]
     },
     "execution_count": 26,
     "metadata": {},
     "output_type": "execute_result"
    }
   ],
   "source": [
    "type(name)"
   ]
  },
  {
   "cell_type": "code",
   "execution_count": 28,
   "id": "a08deb72-5dbf-4cfd-9b24-bbde1b0e2445",
   "metadata": {},
   "outputs": [],
   "source": [
    "a = \"4566\""
   ]
  },
  {
   "cell_type": "code",
   "execution_count": 30,
   "id": "b24e0918-c714-4615-a683-8de225bc1210",
   "metadata": {},
   "outputs": [],
   "source": [
    "b = \"6666\""
   ]
  },
  {
   "cell_type": "code",
   "execution_count": 32,
   "id": "409526d6-551d-4ef4-8c57-23f8a1cea38d",
   "metadata": {},
   "outputs": [
    {
     "data": {
      "text/plain": [
       "'45666666'"
      ]
     },
     "execution_count": 32,
     "metadata": {},
     "output_type": "execute_result"
    }
   ],
   "source": [
    "a + b "
   ]
  },
  {
   "cell_type": "code",
   "execution_count": 34,
   "id": "304d2bfb-983b-4309-895c-feb8206b7183",
   "metadata": {},
   "outputs": [
    {
     "data": {
      "text/plain": [
       "11232"
      ]
     },
     "execution_count": 34,
     "metadata": {},
     "output_type": "execute_result"
    }
   ],
   "source": [
    "int(a) + int(b) # typecasting"
   ]
  },
  {
   "cell_type": "code",
   "execution_count": null,
   "id": "2bd5c9de-0735-46d2-be28-3b4066aaab06",
   "metadata": {},
   "outputs": [],
   "source": []
  }
 ],
 "metadata": {
  "kernelspec": {
   "display_name": "Python [conda env:base] *",
   "language": "python",
   "name": "conda-base-py"
  },
  "language_info": {
   "codemirror_mode": {
    "name": "ipython",
    "version": 3
   },
   "file_extension": ".py",
   "mimetype": "text/x-python",
   "name": "python",
   "nbconvert_exporter": "python",
   "pygments_lexer": "ipython3",
   "version": "3.12.7"
  }
 },
 "nbformat": 4,
 "nbformat_minor": 5
}
