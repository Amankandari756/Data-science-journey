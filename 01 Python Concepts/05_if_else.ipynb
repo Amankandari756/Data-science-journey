{
 "cells": [
  {
   "cell_type": "code",
   "execution_count": 5,
   "id": "a476c069-8cd0-4253-9613-376d677ffe1b",
   "metadata": {},
   "outputs": [],
   "source": [
    "a = 400"
   ]
  },
  {
   "cell_type": "code",
   "execution_count": 7,
   "id": "75723cb5-cf5c-416b-b3a9-f05ca2c02e0b",
   "metadata": {},
   "outputs": [
    {
     "name": "stdout",
     "output_type": "stream",
     "text": [
      "greater\n"
     ]
    }
   ],
   "source": [
    "if(a>53):\n",
    "    print(\"greater\")\n",
    "else:\n",
    "    print (\"smaller\")"
   ]
  },
  {
   "cell_type": "code",
   "execution_count": 9,
   "id": "1022be4c-2999-49f6-aaec-d4817a342183",
   "metadata": {},
   "outputs": [],
   "source": [
    "a = 41"
   ]
  },
  {
   "cell_type": "code",
   "execution_count": 11,
   "id": "ebce54c5-31ef-4893-b397-8e028df2fbe6",
   "metadata": {},
   "outputs": [
    {
     "name": "stdout",
     "output_type": "stream",
     "text": [
      "greater than 40\n"
     ]
    }
   ],
   "source": [
    "if (a>50):\n",
    "    print(\"greater than 50\")\n",
    "elif(a>40):\n",
    "    print(\"greater than 40\")\n",
    "elif(a>30):\n",
    "    print(\"greater than 30\")\n",
    "else:\n",
    "    print(\"Done\")"
   ]
  },
  {
   "cell_type": "code",
   "execution_count": null,
   "id": "dd0d7900-5b0e-48ac-9b84-d74a6b1ab7e2",
   "metadata": {},
   "outputs": [],
   "source": []
  }
 ],
 "metadata": {
  "kernelspec": {
   "display_name": "Python [conda env:base] *",
   "language": "python",
   "name": "conda-base-py"
  },
  "language_info": {
   "codemirror_mode": {
    "name": "ipython",
    "version": 3
   },
   "file_extension": ".py",
   "mimetype": "text/x-python",
   "name": "python",
   "nbconvert_exporter": "python",
   "pygments_lexer": "ipython3",
   "version": "3.12.7"
  }
 },
 "nbformat": 4,
 "nbformat_minor": 5
}
