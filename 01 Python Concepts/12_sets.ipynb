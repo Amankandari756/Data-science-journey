{
 "cells": [
  {
   "cell_type": "code",
   "execution_count": 1,
   "id": "b67c1237-01df-4be0-b961-57788ca0a607",
   "metadata": {},
   "outputs": [],
   "source": [
    "a = {}"
   ]
  },
  {
   "cell_type": "code",
   "execution_count": 3,
   "id": "33ae4539-f645-4f3d-bc89-aa2f265ab5e2",
   "metadata": {},
   "outputs": [
    {
     "data": {
      "text/plain": [
       "dict"
      ]
     },
     "execution_count": 3,
     "metadata": {},
     "output_type": "execute_result"
    }
   ],
   "source": [
    "type(a)"
   ]
  },
  {
   "cell_type": "code",
   "execution_count": 5,
   "id": "38847c3d-2db5-4be0-ae35-16bc09159280",
   "metadata": {},
   "outputs": [],
   "source": [
    "b = set()"
   ]
  },
  {
   "cell_type": "code",
   "execution_count": 7,
   "id": "91791fa4-5835-497d-9575-5722c29e7580",
   "metadata": {},
   "outputs": [
    {
     "data": {
      "text/plain": [
       "set"
      ]
     },
     "execution_count": 7,
     "metadata": {},
     "output_type": "execute_result"
    }
   ],
   "source": [
    "type(b)"
   ]
  },
  {
   "cell_type": "code",
   "execution_count": 9,
   "id": "57cc5785-d109-4cad-9872-120ee550a1ed",
   "metadata": {},
   "outputs": [],
   "source": [
    "s = {4,3,6,2,66,4}"
   ]
  },
  {
   "cell_type": "code",
   "execution_count": 11,
   "id": "3e1d2ecf-abb5-4f17-b2f0-355c26621d9a",
   "metadata": {},
   "outputs": [
    {
     "data": {
      "text/plain": [
       "{2, 3, 4, 6, 66}"
      ]
     },
     "execution_count": 11,
     "metadata": {},
     "output_type": "execute_result"
    }
   ],
   "source": [
    "s"
   ]
  },
  {
   "cell_type": "code",
   "execution_count": 13,
   "id": "1d01c2b1-0eac-43b3-9ead-3abc6c14d026",
   "metadata": {},
   "outputs": [],
   "source": [
    "s = {4,3,6,2,66,4}"
   ]
  },
  {
   "cell_type": "code",
   "execution_count": 19,
   "id": "07a7c12b-b2fa-455c-ac12-cfa176ef434b",
   "metadata": {},
   "outputs": [],
   "source": [
    "s.update([64])"
   ]
  },
  {
   "cell_type": "code",
   "execution_count": 21,
   "id": "4aee02c5-eba1-4306-afde-6bb7480aa8eb",
   "metadata": {},
   "outputs": [
    {
     "data": {
      "text/plain": [
       "{2, 3, 4, 6, 64, 66}"
      ]
     },
     "execution_count": 21,
     "metadata": {},
     "output_type": "execute_result"
    }
   ],
   "source": [
    "s"
   ]
  },
  {
   "cell_type": "code",
   "execution_count": 31,
   "id": "193f5c6d-2688-4a16-b06b-b137621da434",
   "metadata": {},
   "outputs": [],
   "source": [
    "s1 = {1,6,7,10}\n",
    "s2 = {2,4,8,10}"
   ]
  },
  {
   "cell_type": "code",
   "execution_count": 27,
   "id": "33373f60-65d8-4e1c-a3cb-f785d03bd0aa",
   "metadata": {},
   "outputs": [
    {
     "data": {
      "text/plain": [
       "{1, 2, 4, 6, 7, 8}"
      ]
     },
     "execution_count": 27,
     "metadata": {},
     "output_type": "execute_result"
    }
   ],
   "source": [
    "s1.union(s2)"
   ]
  },
  {
   "cell_type": "code",
   "execution_count": 33,
   "id": "4932e355-2296-4665-a304-a8a0bf080a50",
   "metadata": {},
   "outputs": [
    {
     "data": {
      "text/plain": [
       "{10}"
      ]
     },
     "execution_count": 33,
     "metadata": {},
     "output_type": "execute_result"
    }
   ],
   "source": [
    "s1.intersection(s2)"
   ]
  },
  {
   "cell_type": "code",
   "execution_count": 35,
   "id": "1dc777f2-36ac-4313-9385-09b01371d755",
   "metadata": {},
   "outputs": [],
   "source": [
    "sub = {1,3}"
   ]
  },
  {
   "cell_type": "code",
   "execution_count": 37,
   "id": "df0d9607-2017-4f3a-bf34-514c2e19aded",
   "metadata": {},
   "outputs": [
    {
     "data": {
      "text/plain": [
       "False"
      ]
     },
     "execution_count": 37,
     "metadata": {},
     "output_type": "execute_result"
    }
   ],
   "source": [
    "sub.issubset(s1)"
   ]
  },
  {
   "cell_type": "code",
   "execution_count": null,
   "id": "745e4bd5-4c23-4bad-9d0c-484f806a97e3",
   "metadata": {},
   "outputs": [],
   "source": []
  }
 ],
 "metadata": {
  "kernelspec": {
   "display_name": "Python [conda env:base] *",
   "language": "python",
   "name": "conda-base-py"
  },
  "language_info": {
   "codemirror_mode": {
    "name": "ipython",
    "version": 3
   },
   "file_extension": ".py",
   "mimetype": "text/x-python",
   "name": "python",
   "nbconvert_exporter": "python",
   "pygments_lexer": "ipython3",
   "version": "3.12.7"
  }
 },
 "nbformat": 4,
 "nbformat_minor": 5
}
