{
 "cells": [
  {
   "cell_type": "code",
   "execution_count": 7,
   "id": "2f71e3e7-a1b6-4808-a413-83e8b412ff69",
   "metadata": {},
   "outputs": [
    {
     "name": "stdout",
     "output_type": "stream",
     "text": [
      "the company is HP\n"
     ]
    }
   ],
   "source": [
    "class Employee:\n",
    "    company = \"HP\"\n",
    "    def_init_():\n",
    "    self.name  \n",
    "    def printDetails(self):\n",
    "        print(f\"the company is {self.company}\")\n",
    "\n",
    "e = Employee()\n",
    "e.printDetails()"
   ]
  },
  {
   "cell_type": "code",
   "execution_count": null,
   "id": "87b10ae7-3a65-4c53-9c44-29d6b51c6944",
   "metadata": {},
   "outputs": [],
   "source": []
  }
 ],
 "metadata": {
  "kernelspec": {
   "display_name": "Python [conda env:base] *",
   "language": "python",
   "name": "conda-base-py"
  },
  "language_info": {
   "codemirror_mode": {
    "name": "ipython",
    "version": 3
   },
   "file_extension": ".py",
   "mimetype": "text/x-python",
   "name": "python",
   "nbconvert_exporter": "python",
   "pygments_lexer": "ipython3",
   "version": "3.12.7"
  }
 },
 "nbformat": 4,
 "nbformat_minor": 5
}
